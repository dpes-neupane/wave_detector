{
 "cells": [
  {
   "cell_type": "code",
   "execution_count": 1,
   "metadata": {},
   "outputs": [],
   "source": [
    "import cv2 as cv\n",
    "import numpy as np\n"
   ]
  },
  {
   "cell_type": "code",
   "execution_count": 2,
   "metadata": {},
   "outputs": [],
   "source": [
    "import mediapipe as mp"
   ]
  },
  {
   "cell_type": "code",
   "execution_count": 3,
   "metadata": {},
   "outputs": [],
   "source": [
    "mp_pose = mp.solutions.pose\n",
    "mp_drawing = mp.solutions.drawing_utils\n",
    "\n"
   ]
  },
  {
   "cell_type": "code",
   "execution_count": 4,
   "metadata": {},
   "outputs": [],
   "source": [
    "wave_path = \"./wave\"\n",
    "import os\n",
    "files = os.listdir(wave_path)\n"
   ]
  },
  {
   "cell_type": "code",
   "execution_count": 13,
   "metadata": {},
   "outputs": [
    {
     "name": "stdout",
     "output_type": "stream",
     "text": [
      "813\r"
     ]
    }
   ],
   "source": [
    "\n",
    "counter = []\n",
    "with mp_pose.Pose(static_image_mode=False, min_detection_confidence=0.5, min_tracking_confidence=0.5) as pose:\n",
    "    \n",
    "    for file in files:\n",
    "        cap = cv.VideoCapture(os.path.join(wave_path , file))\n",
    "        count=0\n",
    "        \n",
    "        while cap.isOpened():\n",
    "            ret, frame = cap.read()\n",
    "            count+=1\n",
    "            results = pose.process(cv.cvtColor(frame, cv.COLOR_BGR2RGB))\n",
    "            if not ret or count >=60:\n",
    "                break\n",
    "            print(count    , end = \"\\r\")\n",
    "            mp_drawing.draw_landmarks(\n",
    "                frame, results.pose_landmarks, mp_pose.POSE_CONNECTIONS\n",
    "            )\n",
    "            cv.imshow(\"frame\", frame)\n",
    "            if cv.waitKey(10) & 0xff == ord(\"q\"):\n",
    "                break\n",
    "        counter.append(count)"
   ]
  },
  {
   "cell_type": "code",
   "execution_count": 1,
   "metadata": {},
   "outputs": [],
   "source": [
    "import pandas as pd\n"
   ]
  },
  {
   "cell_type": "code",
   "execution_count": 2,
   "metadata": {},
   "outputs": [],
   "source": [
    "def append_csv(par_folder, files,seq_frames, target):\n",
    "    import os\n",
    "    for file in files:\n",
    "        df = pd.read_csv(os.path.join(par_folder, file))\n",
    "        df.drop(\"count\", axis=1, inplace=True)\n",
    "        target.append(df[\"class\"].iloc[0])\n",
    "\n",
    "        df.drop(\"class\", axis=1, inplace=True)\n",
    "        values = df.values\n",
    "        if len(values)!=36:\n",
    "            print(file+ \" not long enough \" + str(len(values)))\n",
    "        seq_frames.append(values)\n",
    "        \n",
    "        "
   ]
  },
  {
   "cell_type": "code",
   "execution_count": 3,
   "metadata": {},
   "outputs": [
    {
     "name": "stdout",
     "output_type": "stream",
     "text": [
      "data_WIS_video_walk_lena_walk.csv not long enough 35\n",
      "data_WIS_video_bend_ira_bend.csv not long enough 35\n",
      "data_WIS_video_jack_eli_jack.csv not long enough 35\n",
      "data_WIS_video_bend_daria_bend.csv not long enough 35\n",
      "data_WIS_video_skip_shahar_skip.csv not long enough 35\n",
      "data_WIS_video_run_lyova_run.csv not long enough 35\n",
      "data_WIS_video_wave1_lena_wave1.csv not long enough 35\n"
     ]
    }
   ],
   "source": [
    "seq_frames = []\n",
    "target = []\n",
    "par_folder = \"./notCsv\"\n",
    "files = os.listdir(par_folder)\n",
    "append_csv(par_folder, files, seq_frames, target)\n",
    "par_folder = \"./waveCsv\"\n",
    "files = os.listdir(par_folder)\n",
    "append_csv(par_folder, files, seq_frames, target)\n"
   ]
  },
  {
   "cell_type": "code",
   "execution_count": 4,
   "metadata": {},
   "outputs": [
    {
     "data": {
      "text/plain": [
       "(18, 18)"
      ]
     },
     "execution_count": 4,
     "metadata": {},
     "output_type": "execute_result"
    }
   ],
   "source": [
    "len(seq_frames), len(target)"
   ]
  },
  {
   "cell_type": "code",
   "execution_count": 5,
   "metadata": {},
   "outputs": [
    {
     "name": "stdout",
     "output_type": "stream",
     "text": [
      "36\n",
      "36\n",
      "36\n",
      "36\n",
      "36\n",
      "36\n",
      "36\n"
     ]
    }
   ],
   "source": [
    "import numpy as np\n",
    "X_train = []\n",
    "for seq in seq_frames:\n",
    "    if seq.shape[0] < 36:\n",
    "        # print(seq[-1, :], seq[-1, :].shape)\n",
    "        X_train.append(np.vstack([seq, seq[-1, :]]))\n",
    "        print(X_train[-1].shape[0])\n",
    "    else:\n",
    "        X_train.append(np.array(seq))"
   ]
  },
  {
   "cell_type": "code",
   "execution_count": 6,
   "metadata": {},
   "outputs": [],
   "source": [
    "import tensorflow as tf\n",
    "from tensorflow import keras\n",
    "from tensorflow.keras import layers\n",
    "from keras.layers import Dense\n",
    "from keras.layers import LSTM\n",
    "from keras.models import Sequential\n",
    "from keras.models import load_model\n",
    "from keras.callbacks import ModelCheckpoint\n",
    "from tensorflow.keras import losses\n",
    "from keras.layers import TimeDistributed\n"
   ]
  },
  {
   "cell_type": "code",
   "execution_count": 7,
   "metadata": {},
   "outputs": [],
   "source": [
    "model = Sequential()\n",
    "model.add(LSTM(128, input_shape=(36, 33*4),return_sequences=True, activation=\"relu\" ))\n",
    "model.add(LSTM(64, activation='relu'))\n",
    "# model.add(TimeDistributed(Dense(12, activation=\"relu\")))\n",
    "# model.add(keras.layers.Flatten())\n",
    "\n",
    "model.add(Dense(1, activation=\"sigmoid\"))\n"
   ]
  },
  {
   "cell_type": "code",
   "execution_count": 8,
   "metadata": {},
   "outputs": [
    {
     "name": "stdout",
     "output_type": "stream",
     "text": [
      "Model: \"sequential\"\n",
      "_________________________________________________________________\n",
      "Layer (type)                 Output Shape              Param #   \n",
      "=================================================================\n",
      "lstm (LSTM)                  (None, 36, 128)           133632    \n",
      "_________________________________________________________________\n",
      "lstm_1 (LSTM)                (None, 64)                49408     \n",
      "_________________________________________________________________\n",
      "dense (Dense)                (None, 1)                 65        \n",
      "=================================================================\n",
      "Total params: 183,105\n",
      "Trainable params: 183,105\n",
      "Non-trainable params: 0\n",
      "_________________________________________________________________\n"
     ]
    }
   ],
   "source": [
    "model.summary()"
   ]
  },
  {
   "cell_type": "code",
   "execution_count": 9,
   "metadata": {},
   "outputs": [
    {
     "data": {
      "text/plain": [
       "((36, 132),\n",
       " ['not',\n",
       "  'not',\n",
       "  'not',\n",
       "  'not',\n",
       "  'not',\n",
       "  'not',\n",
       "  'not',\n",
       "  'not',\n",
       "  'not',\n",
       "  'wave',\n",
       "  'wave',\n",
       "  'wave',\n",
       "  'wave',\n",
       "  'wave',\n",
       "  'wave',\n",
       "  'wave',\n",
       "  'wave',\n",
       "  'wave'])"
      ]
     },
     "execution_count": 9,
     "metadata": {},
     "output_type": "execute_result"
    }
   ],
   "source": [
    "X_train[0].shape, target"
   ]
  },
  {
   "cell_type": "code",
   "execution_count": 10,
   "metadata": {},
   "outputs": [
    {
     "name": "stdout",
     "output_type": "stream",
     "text": [
      "(18, 36, 132)\n",
      "[0, 0, 0, 0, 0, 0, 0, 0, 0, 1, 1, 1, 1, 1, 1, 1, 1, 1]\n"
     ]
    }
   ],
   "source": [
    "X_train = np.array(X_train)\n",
    "t = [1 if x == 'wave' else 0 for x in target]\n",
    "target = np.array(t)\n",
    "\n",
    "\n",
    "print(X_train.shape)\n",
    "type(seq_frames[0])\n",
    "print(t)\n"
   ]
  },
  {
   "cell_type": "code",
   "execution_count": 11,
   "metadata": {},
   "outputs": [],
   "source": [
    "from sklearn.model_selection import train_test_split\n",
    "\n",
    "x_train, validation_X,  y_train,validation_y = train_test_split(X_train, target, test_size=0.2)"
   ]
  },
  {
   "cell_type": "code",
   "execution_count": 12,
   "metadata": {},
   "outputs": [
    {
     "data": {
      "text/plain": [
       "array([1, 1, 0, 1])"
      ]
     },
     "execution_count": 12,
     "metadata": {},
     "output_type": "execute_result"
    }
   ],
   "source": [
    "validation_y"
   ]
  },
  {
   "cell_type": "code",
   "execution_count": 14,
   "metadata": {},
   "outputs": [
    {
     "name": "stdout",
     "output_type": "stream",
     "text": [
      "Epoch 1/100\n",
      "4/4 [==============================] - 3s 271ms/step - loss: 0.7424 - accuracy: 0.5000 - val_loss: 0.7104 - val_accuracy: 0.2500\n",
      "\n",
      "Epoch 00001: accuracy improved from -inf to 0.50000, saving model to best_model2.pkl\n"
     ]
    },
    {
     "name": "stderr",
     "output_type": "stream",
     "text": [
      "WARNING:absl:Found untraced functions such as lstm_cell_layer_call_fn, lstm_cell_layer_call_and_return_conditional_losses, lstm_cell_layer_call_fn, lstm_cell_layer_call_and_return_conditional_losses, lstm_cell_layer_call_and_return_conditional_losses while saving (showing 5 of 5). These functions will not be directly callable after loading.\n"
     ]
    },
    {
     "name": "stdout",
     "output_type": "stream",
     "text": [
      "INFO:tensorflow:Assets written to: best_model2.pkl/assets\n"
     ]
    },
    {
     "name": "stderr",
     "output_type": "stream",
     "text": [
      "INFO:tensorflow:Assets written to: best_model2.pkl/assets\n"
     ]
    },
    {
     "name": "stdout",
     "output_type": "stream",
     "text": [
      "Epoch 2/100\n",
      "4/4 [==============================] - 1s 196ms/step - loss: 0.6435 - accuracy: 0.5714 - val_loss: 0.8787 - val_accuracy: 0.2500\n",
      "\n",
      "Epoch 00002: accuracy improved from 0.50000 to 0.57143, saving model to best_model2.pkl\n"
     ]
    },
    {
     "name": "stderr",
     "output_type": "stream",
     "text": [
      "WARNING:absl:Found untraced functions such as lstm_cell_layer_call_fn, lstm_cell_layer_call_and_return_conditional_losses, lstm_cell_layer_call_fn, lstm_cell_layer_call_and_return_conditional_losses, lstm_cell_layer_call_and_return_conditional_losses while saving (showing 5 of 5). These functions will not be directly callable after loading.\n"
     ]
    },
    {
     "name": "stdout",
     "output_type": "stream",
     "text": [
      "INFO:tensorflow:Assets written to: best_model2.pkl/assets\n"
     ]
    },
    {
     "name": "stderr",
     "output_type": "stream",
     "text": [
      "INFO:tensorflow:Assets written to: best_model2.pkl/assets\n"
     ]
    },
    {
     "name": "stdout",
     "output_type": "stream",
     "text": [
      "Epoch 3/100\n",
      "4/4 [==============================] - 0s 93ms/step - loss: 0.6991 - accuracy: 0.5714 - val_loss: 0.8472 - val_accuracy: 0.2500\n",
      "\n",
      "Epoch 00003: accuracy did not improve from 0.57143\n",
      "Epoch 4/100\n",
      "4/4 [==============================] - 0s 69ms/step - loss: 0.6143 - accuracy: 0.5714 - val_loss: 0.7133 - val_accuracy: 0.2500\n",
      "\n",
      "Epoch 00004: accuracy did not improve from 0.57143\n",
      "Epoch 5/100\n",
      "4/4 [==============================] - 0s 69ms/step - loss: 0.6049 - accuracy: 0.5714 - val_loss: 0.5922 - val_accuracy: 1.0000\n",
      "\n",
      "Epoch 00005: accuracy did not improve from 0.57143\n",
      "Epoch 6/100\n",
      "4/4 [==============================] - 0s 76ms/step - loss: 0.5362 - accuracy: 0.9286 - val_loss: 0.4909 - val_accuracy: 1.0000\n",
      "\n",
      "Epoch 00006: accuracy improved from 0.57143 to 0.92857, saving model to best_model2.pkl\n"
     ]
    },
    {
     "name": "stderr",
     "output_type": "stream",
     "text": [
      "WARNING:absl:Found untraced functions such as lstm_cell_layer_call_fn, lstm_cell_layer_call_and_return_conditional_losses, lstm_cell_layer_call_fn, lstm_cell_layer_call_and_return_conditional_losses, lstm_cell_layer_call_and_return_conditional_losses while saving (showing 5 of 5). These functions will not be directly callable after loading.\n"
     ]
    },
    {
     "name": "stdout",
     "output_type": "stream",
     "text": [
      "INFO:tensorflow:Assets written to: best_model2.pkl/assets\n"
     ]
    },
    {
     "name": "stderr",
     "output_type": "stream",
     "text": [
      "INFO:tensorflow:Assets written to: best_model2.pkl/assets\n"
     ]
    },
    {
     "name": "stdout",
     "output_type": "stream",
     "text": [
      "Epoch 7/100\n",
      "4/4 [==============================] - 0s 114ms/step - loss: 0.4480 - accuracy: 0.7143 - val_loss: 0.3980 - val_accuracy: 1.0000\n",
      "\n",
      "Epoch 00007: accuracy did not improve from 0.92857\n",
      "Epoch 8/100\n",
      "4/4 [==============================] - 0s 87ms/step - loss: 0.3715 - accuracy: 0.8571 - val_loss: 0.1711 - val_accuracy: 1.0000\n",
      "\n",
      "Epoch 00008: accuracy did not improve from 0.92857\n",
      "Epoch 9/100\n",
      "4/4 [==============================] - 0s 76ms/step - loss: 37.4479 - accuracy: 0.7857 - val_loss: 0.0027 - val_accuracy: 1.0000\n",
      "\n",
      "Epoch 00009: accuracy did not improve from 0.92857\n",
      "Epoch 10/100\n",
      "4/4 [==============================] - 1s 144ms/step - loss: 1.0315 - accuracy: 0.5714 - val_loss: 0.3296 - val_accuracy: 0.7500\n",
      "\n",
      "Epoch 00010: accuracy did not improve from 0.92857\n",
      "Epoch 11/100\n",
      "4/4 [==============================] - 0s 89ms/step - loss: 0.9310 - accuracy: 0.5000 - val_loss: 7.1636 - val_accuracy: 0.2500\n",
      "\n",
      "Epoch 00011: accuracy did not improve from 0.92857\n",
      "Epoch 12/100\n",
      "4/4 [==============================] - 0s 75ms/step - loss: 2.4253 - accuracy: 0.5714 - val_loss: 0.4109 - val_accuracy: 1.0000\n",
      "\n",
      "Epoch 00012: accuracy did not improve from 0.92857\n",
      "Epoch 13/100\n",
      "4/4 [==============================] - 0s 119ms/step - loss: 0.4006 - accuracy: 0.7857 - val_loss: 0.2975 - val_accuracy: 0.7500\n",
      "\n",
      "Epoch 00013: accuracy did not improve from 0.92857\n",
      "Epoch 14/100\n",
      "4/4 [==============================] - 0s 83ms/step - loss: 0.8405 - accuracy: 0.5714 - val_loss: 0.7108 - val_accuracy: 0.2500\n",
      "\n",
      "Epoch 00014: accuracy did not improve from 0.92857\n",
      "Epoch 15/100\n",
      "4/4 [==============================] - 0s 76ms/step - loss: 0.6648 - accuracy: 0.5714 - val_loss: 0.6068 - val_accuracy: 0.7500\n",
      "\n",
      "Epoch 00015: accuracy did not improve from 0.92857\n",
      "Epoch 16/100\n",
      "4/4 [==============================] - 0s 120ms/step - loss: 0.4640 - accuracy: 0.9286 - val_loss: 0.2537 - val_accuracy: 1.0000\n",
      "\n",
      "Epoch 00016: accuracy did not improve from 0.92857\n",
      "Epoch 17/100\n",
      "4/4 [==============================] - 0s 71ms/step - loss: 0.4223 - accuracy: 0.8571 - val_loss: 0.2167 - val_accuracy: 1.0000\n",
      "\n",
      "Epoch 00017: accuracy did not improve from 0.92857\n",
      "Epoch 18/100\n",
      "4/4 [==============================] - 0s 75ms/step - loss: 0.2175 - accuracy: 0.8571 - val_loss: 0.3439 - val_accuracy: 0.7500\n",
      "\n",
      "Epoch 00018: accuracy did not improve from 0.92857\n",
      "Epoch 19/100\n",
      "4/4 [==============================] - 0s 80ms/step - loss: 0.1198 - accuracy: 0.9286 - val_loss: 5.6586e-04 - val_accuracy: 1.0000\n",
      "\n",
      "Epoch 00019: accuracy did not improve from 0.92857\n",
      "Epoch 20/100\n",
      "4/4 [==============================] - 0s 145ms/step - loss: 0.6448 - accuracy: 0.8571 - val_loss: 0.1273 - val_accuracy: 1.0000\n",
      "\n",
      "Epoch 00020: accuracy did not improve from 0.92857\n",
      "Epoch 21/100\n",
      "4/4 [==============================] - 0s 108ms/step - loss: 0.2196 - accuracy: 1.0000 - val_loss: 0.2958 - val_accuracy: 0.7500\n",
      "\n",
      "Epoch 00021: accuracy improved from 0.92857 to 1.00000, saving model to best_model2.pkl\n"
     ]
    },
    {
     "name": "stderr",
     "output_type": "stream",
     "text": [
      "WARNING:absl:Found untraced functions such as lstm_cell_layer_call_fn, lstm_cell_layer_call_and_return_conditional_losses, lstm_cell_layer_call_fn, lstm_cell_layer_call_and_return_conditional_losses, lstm_cell_layer_call_and_return_conditional_losses while saving (showing 5 of 5). These functions will not be directly callable after loading.\n"
     ]
    },
    {
     "name": "stdout",
     "output_type": "stream",
     "text": [
      "INFO:tensorflow:Assets written to: best_model2.pkl/assets\n"
     ]
    },
    {
     "name": "stderr",
     "output_type": "stream",
     "text": [
      "INFO:tensorflow:Assets written to: best_model2.pkl/assets\n"
     ]
    },
    {
     "name": "stdout",
     "output_type": "stream",
     "text": [
      "Epoch 22/100\n",
      "4/4 [==============================] - 0s 77ms/step - loss: 0.1661 - accuracy: 1.0000 - val_loss: 0.0260 - val_accuracy: 1.0000\n",
      "\n",
      "Epoch 00022: accuracy did not improve from 1.00000\n",
      "Epoch 23/100\n",
      "4/4 [==============================] - 0s 86ms/step - loss: 0.2140 - accuracy: 0.8571 - val_loss: 1.3863 - val_accuracy: 0.5000\n",
      "\n",
      "Epoch 00023: accuracy did not improve from 1.00000\n",
      "Epoch 24/100\n",
      "4/4 [==============================] - 0s 72ms/step - loss: 0.2037 - accuracy: 0.9286 - val_loss: 0.0458 - val_accuracy: 1.0000\n",
      "\n",
      "Epoch 00024: accuracy did not improve from 1.00000\n",
      "Epoch 25/100\n",
      "4/4 [==============================] - 0s 73ms/step - loss: 0.4058 - accuracy: 0.8571 - val_loss: 0.1127 - val_accuracy: 1.0000\n",
      "\n",
      "Epoch 00025: accuracy did not improve from 1.00000\n",
      "Epoch 26/100\n",
      "4/4 [==============================] - 0s 73ms/step - loss: 0.3028 - accuracy: 0.8571 - val_loss: 0.3226 - val_accuracy: 1.0000\n",
      "\n",
      "Epoch 00026: accuracy did not improve from 1.00000\n",
      "Epoch 27/100\n",
      "4/4 [==============================] - 0s 78ms/step - loss: 0.4210 - accuracy: 0.9286 - val_loss: 0.4031 - val_accuracy: 0.7500\n",
      "\n",
      "Epoch 00027: accuracy did not improve from 1.00000\n",
      "Epoch 28/100\n",
      "4/4 [==============================] - 0s 88ms/step - loss: 0.2901 - accuracy: 0.9286 - val_loss: 0.0976 - val_accuracy: 1.0000\n",
      "\n",
      "Epoch 00028: accuracy did not improve from 1.00000\n",
      "Epoch 29/100\n",
      "4/4 [==============================] - 0s 77ms/step - loss: 0.2342 - accuracy: 0.8571 - val_loss: 0.1564 - val_accuracy: 1.0000\n",
      "\n",
      "Epoch 00029: accuracy did not improve from 1.00000\n",
      "Epoch 30/100\n",
      "4/4 [==============================] - 0s 75ms/step - loss: 0.1705 - accuracy: 0.9286 - val_loss: 0.1448 - val_accuracy: 1.0000\n",
      "\n",
      "Epoch 00030: accuracy did not improve from 1.00000\n",
      "Epoch 31/100\n",
      "4/4 [==============================] - 0s 91ms/step - loss: 0.1177 - accuracy: 1.0000 - val_loss: 0.1832 - val_accuracy: 1.0000\n",
      "\n",
      "Epoch 00031: accuracy did not improve from 1.00000\n",
      "Epoch 32/100\n",
      "4/4 [==============================] - 0s 80ms/step - loss: 0.1058 - accuracy: 0.9286 - val_loss: 0.0704 - val_accuracy: 1.0000\n",
      "\n",
      "Epoch 00032: accuracy did not improve from 1.00000\n",
      "Epoch 33/100\n",
      "4/4 [==============================] - 0s 81ms/step - loss: 0.1025 - accuracy: 0.9286 - val_loss: 0.0983 - val_accuracy: 1.0000\n",
      "\n",
      "Epoch 00033: accuracy did not improve from 1.00000\n",
      "Epoch 34/100\n",
      "4/4 [==============================] - 0s 100ms/step - loss: 0.0759 - accuracy: 0.9286 - val_loss: 0.0148 - val_accuracy: 1.0000\n",
      "\n",
      "Epoch 00034: accuracy did not improve from 1.00000\n",
      "Epoch 35/100\n",
      "4/4 [==============================] - 0s 82ms/step - loss: 0.0061 - accuracy: 1.0000 - val_loss: 0.0127 - val_accuracy: 1.0000\n",
      "\n",
      "Epoch 00035: accuracy did not improve from 1.00000\n",
      "Epoch 36/100\n",
      "4/4 [==============================] - 0s 77ms/step - loss: 0.0021 - accuracy: 1.0000 - val_loss: 0.0174 - val_accuracy: 1.0000\n",
      "\n",
      "Epoch 00036: accuracy did not improve from 1.00000\n",
      "Epoch 37/100\n",
      "4/4 [==============================] - 0s 78ms/step - loss: 0.0014 - accuracy: 1.0000 - val_loss: 0.0118 - val_accuracy: 1.0000\n",
      "\n",
      "Epoch 00037: accuracy did not improve from 1.00000\n",
      "Epoch 38/100\n",
      "4/4 [==============================] - 0s 110ms/step - loss: 4.3686e-04 - accuracy: 1.0000 - val_loss: 0.0036 - val_accuracy: 1.0000\n",
      "\n",
      "Epoch 00038: accuracy did not improve from 1.00000\n",
      "Epoch 39/100\n",
      "4/4 [==============================] - 0s 76ms/step - loss: 1.9482e-04 - accuracy: 1.0000 - val_loss: 7.3115e-04 - val_accuracy: 1.0000\n",
      "\n",
      "Epoch 00039: accuracy did not improve from 1.00000\n",
      "Epoch 40/100\n",
      "4/4 [==============================] - 0s 84ms/step - loss: 8.4620e-05 - accuracy: 1.0000 - val_loss: 1.7453e-04 - val_accuracy: 1.0000\n",
      "\n",
      "Epoch 00040: accuracy did not improve from 1.00000\n",
      "Epoch 41/100\n",
      "4/4 [==============================] - 0s 78ms/step - loss: 2.2777e-05 - accuracy: 1.0000 - val_loss: 1.0022e-04 - val_accuracy: 1.0000\n",
      "\n",
      "Epoch 00041: accuracy did not improve from 1.00000\n",
      "Epoch 42/100\n",
      "4/4 [==============================] - 0s 78ms/step - loss: 2.4485e-05 - accuracy: 1.0000 - val_loss: 1.0175e-04 - val_accuracy: 1.0000\n",
      "\n",
      "Epoch 00042: accuracy did not improve from 1.00000\n",
      "Epoch 43/100\n",
      "4/4 [==============================] - 0s 131ms/step - loss: 2.5288e-05 - accuracy: 1.0000 - val_loss: 1.0606e-04 - val_accuracy: 1.0000\n",
      "\n",
      "Epoch 00043: accuracy did not improve from 1.00000\n",
      "Epoch 44/100\n",
      "4/4 [==============================] - 0s 96ms/step - loss: 2.4608e-05 - accuracy: 1.0000 - val_loss: 1.0174e-04 - val_accuracy: 1.0000\n",
      "\n",
      "Epoch 00044: accuracy did not improve from 1.00000\n",
      "Epoch 45/100\n",
      "4/4 [==============================] - 0s 105ms/step - loss: 2.3994e-05 - accuracy: 1.0000 - val_loss: 9.2206e-05 - val_accuracy: 1.0000\n",
      "\n",
      "Epoch 00045: accuracy did not improve from 1.00000\n",
      "Epoch 46/100\n",
      "4/4 [==============================] - 0s 100ms/step - loss: 2.3158e-05 - accuracy: 1.0000 - val_loss: 8.5855e-05 - val_accuracy: 1.0000\n",
      "\n",
      "Epoch 00046: accuracy did not improve from 1.00000\n",
      "Epoch 47/100\n",
      "4/4 [==============================] - 0s 92ms/step - loss: 2.2427e-05 - accuracy: 1.0000 - val_loss: 7.8556e-05 - val_accuracy: 1.0000\n",
      "\n",
      "Epoch 00047: accuracy did not improve from 1.00000\n",
      "Epoch 48/100\n",
      "4/4 [==============================] - 0s 78ms/step - loss: 2.1304e-05 - accuracy: 1.0000 - val_loss: 7.3654e-05 - val_accuracy: 1.0000\n",
      "\n",
      "Epoch 00048: accuracy did not improve from 1.00000\n",
      "Epoch 49/100\n",
      "4/4 [==============================] - 0s 114ms/step - loss: 2.0874e-05 - accuracy: 1.0000 - val_loss: 6.9875e-05 - val_accuracy: 1.0000\n",
      "\n",
      "Epoch 00049: accuracy did not improve from 1.00000\n",
      "Epoch 50/100\n",
      "4/4 [==============================] - 0s 106ms/step - loss: 1.9579e-05 - accuracy: 1.0000 - val_loss: 6.5963e-05 - val_accuracy: 1.0000\n",
      "\n",
      "Epoch 00050: accuracy did not improve from 1.00000\n",
      "Epoch 51/100\n",
      "4/4 [==============================] - 0s 81ms/step - loss: 1.9021e-05 - accuracy: 1.0000 - val_loss: 6.0945e-05 - val_accuracy: 1.0000\n",
      "\n",
      "Epoch 00051: accuracy did not improve from 1.00000\n",
      "Epoch 52/100\n",
      "4/4 [==============================] - 0s 78ms/step - loss: 1.7972e-05 - accuracy: 1.0000 - val_loss: 5.6178e-05 - val_accuracy: 1.0000\n",
      "\n",
      "Epoch 00052: accuracy did not improve from 1.00000\n",
      "Epoch 53/100\n",
      "4/4 [==============================] - 0s 81ms/step - loss: 1.7380e-05 - accuracy: 1.0000 - val_loss: 5.3336e-05 - val_accuracy: 1.0000\n",
      "\n",
      "Epoch 00053: accuracy did not improve from 1.00000\n",
      "Epoch 54/100\n",
      "4/4 [==============================] - 0s 82ms/step - loss: 1.6438e-05 - accuracy: 1.0000 - val_loss: 5.0060e-05 - val_accuracy: 1.0000\n",
      "\n",
      "Epoch 00054: accuracy did not improve from 1.00000\n",
      "Epoch 55/100\n",
      "4/4 [==============================] - 0s 76ms/step - loss: 1.5579e-05 - accuracy: 1.0000 - val_loss: 4.7874e-05 - val_accuracy: 1.0000\n",
      "\n",
      "Epoch 00055: accuracy did not improve from 1.00000\n",
      "Epoch 56/100\n",
      "4/4 [==============================] - 0s 77ms/step - loss: 1.5040e-05 - accuracy: 1.0000 - val_loss: 4.5148e-05 - val_accuracy: 1.0000\n",
      "\n",
      "Epoch 00056: accuracy did not improve from 1.00000\n",
      "Epoch 57/100\n",
      "4/4 [==============================] - 0s 81ms/step - loss: 1.4415e-05 - accuracy: 1.0000 - val_loss: 4.3461e-05 - val_accuracy: 1.0000\n",
      "\n",
      "Epoch 00057: accuracy did not improve from 1.00000\n",
      "Epoch 58/100\n",
      "4/4 [==============================] - 0s 80ms/step - loss: 1.3751e-05 - accuracy: 1.0000 - val_loss: 4.0618e-05 - val_accuracy: 1.0000\n",
      "\n",
      "Epoch 00058: accuracy did not improve from 1.00000\n",
      "Epoch 59/100\n",
      "4/4 [==============================] - 0s 81ms/step - loss: 1.3216e-05 - accuracy: 1.0000 - val_loss: 3.7382e-05 - val_accuracy: 1.0000\n",
      "\n",
      "Epoch 00059: accuracy did not improve from 1.00000\n",
      "Epoch 60/100\n",
      "4/4 [==============================] - 0s 79ms/step - loss: 1.2863e-05 - accuracy: 1.0000 - val_loss: 3.3773e-05 - val_accuracy: 1.0000\n",
      "\n",
      "Epoch 00060: accuracy did not improve from 1.00000\n",
      "Epoch 61/100\n",
      "4/4 [==============================] - 0s 80ms/step - loss: 1.2312e-05 - accuracy: 1.0000 - val_loss: 3.1189e-05 - val_accuracy: 1.0000\n",
      "\n",
      "Epoch 00061: accuracy did not improve from 1.00000\n",
      "Epoch 62/100\n",
      "4/4 [==============================] - 0s 78ms/step - loss: 1.1969e-05 - accuracy: 1.0000 - val_loss: 2.9706e-05 - val_accuracy: 1.0000\n",
      "\n",
      "Epoch 00062: accuracy did not improve from 1.00000\n",
      "Epoch 63/100\n",
      "4/4 [==============================] - 0s 73ms/step - loss: 1.1539e-05 - accuracy: 1.0000 - val_loss: 2.8710e-05 - val_accuracy: 1.0000\n",
      "\n",
      "Epoch 00063: accuracy did not improve from 1.00000\n",
      "Epoch 64/100\n",
      "4/4 [==============================] - 0s 91ms/step - loss: 1.1063e-05 - accuracy: 1.0000 - val_loss: 2.7735e-05 - val_accuracy: 1.0000\n",
      "\n",
      "Epoch 00064: accuracy did not improve from 1.00000\n",
      "Epoch 65/100\n",
      "4/4 [==============================] - 0s 85ms/step - loss: 1.0751e-05 - accuracy: 1.0000 - val_loss: 2.6959e-05 - val_accuracy: 1.0000\n",
      "\n",
      "Epoch 00065: accuracy did not improve from 1.00000\n",
      "Epoch 66/100\n",
      "4/4 [==============================] - 0s 79ms/step - loss: 1.0479e-05 - accuracy: 1.0000 - val_loss: 2.5779e-05 - val_accuracy: 1.0000\n",
      "\n",
      "Epoch 00066: accuracy did not improve from 1.00000\n",
      "Epoch 67/100\n",
      "4/4 [==============================] - 0s 78ms/step - loss: 1.0216e-05 - accuracy: 1.0000 - val_loss: 2.5010e-05 - val_accuracy: 1.0000\n",
      "\n",
      "Epoch 00067: accuracy did not improve from 1.00000\n",
      "Epoch 68/100\n",
      "4/4 [==============================] - 0s 97ms/step - loss: 9.8624e-06 - accuracy: 1.0000 - val_loss: 2.4345e-05 - val_accuracy: 1.0000\n",
      "\n",
      "Epoch 00068: accuracy did not improve from 1.00000\n",
      "Epoch 69/100\n",
      "4/4 [==============================] - 0s 85ms/step - loss: 9.6946e-06 - accuracy: 1.0000 - val_loss: 2.3910e-05 - val_accuracy: 1.0000\n",
      "\n",
      "Epoch 00069: accuracy did not improve from 1.00000\n",
      "Epoch 70/100\n",
      "4/4 [==============================] - 0s 76ms/step - loss: 9.3918e-06 - accuracy: 1.0000 - val_loss: 2.3561e-05 - val_accuracy: 1.0000\n",
      "\n",
      "Epoch 00070: accuracy did not improve from 1.00000\n",
      "Epoch 71/100\n",
      "4/4 [==============================] - 0s 85ms/step - loss: 9.0298e-06 - accuracy: 1.0000 - val_loss: 2.3138e-05 - val_accuracy: 1.0000\n",
      "\n",
      "Epoch 00071: accuracy did not improve from 1.00000\n",
      "Epoch 72/100\n",
      "4/4 [==============================] - 0s 75ms/step - loss: 8.7632e-06 - accuracy: 1.0000 - val_loss: 2.2814e-05 - val_accuracy: 1.0000\n",
      "\n",
      "Epoch 00072: accuracy did not improve from 1.00000\n",
      "Epoch 73/100\n",
      "4/4 [==============================] - 0s 84ms/step - loss: 8.5210e-06 - accuracy: 1.0000 - val_loss: 2.3000e-05 - val_accuracy: 1.0000\n",
      "\n",
      "Epoch 00073: accuracy did not improve from 1.00000\n",
      "Epoch 74/100\n",
      "4/4 [==============================] - 0s 77ms/step - loss: 8.2134e-06 - accuracy: 1.0000 - val_loss: 2.3006e-05 - val_accuracy: 1.0000\n",
      "\n",
      "Epoch 00074: accuracy did not improve from 1.00000\n",
      "Epoch 75/100\n",
      "4/4 [==============================] - 0s 84ms/step - loss: 7.9749e-06 - accuracy: 1.0000 - val_loss: 2.3324e-05 - val_accuracy: 1.0000\n",
      "\n",
      "Epoch 00075: accuracy did not improve from 1.00000\n",
      "Epoch 76/100\n",
      "4/4 [==============================] - 0s 78ms/step - loss: 7.7593e-06 - accuracy: 1.0000 - val_loss: 2.3159e-05 - val_accuracy: 1.0000\n",
      "\n",
      "Epoch 00076: accuracy did not improve from 1.00000\n",
      "Epoch 77/100\n",
      "4/4 [==============================] - 0s 75ms/step - loss: 7.5419e-06 - accuracy: 1.0000 - val_loss: 2.3158e-05 - val_accuracy: 1.0000\n",
      "\n",
      "Epoch 00077: accuracy did not improve from 1.00000\n",
      "Epoch 78/100\n",
      "4/4 [==============================] - 0s 82ms/step - loss: 7.3025e-06 - accuracy: 1.0000 - val_loss: 2.2987e-05 - val_accuracy: 1.0000\n",
      "\n",
      "Epoch 00078: accuracy did not improve from 1.00000\n",
      "Epoch 79/100\n",
      "4/4 [==============================] - 0s 80ms/step - loss: 7.0365e-06 - accuracy: 1.0000 - val_loss: 2.2934e-05 - val_accuracy: 1.0000\n",
      "\n",
      "Epoch 00079: accuracy did not improve from 1.00000\n",
      "Epoch 80/100\n",
      "4/4 [==============================] - 0s 80ms/step - loss: 6.8547e-06 - accuracy: 1.0000 - val_loss: 2.2871e-05 - val_accuracy: 1.0000\n",
      "\n",
      "Epoch 00080: accuracy did not improve from 1.00000\n",
      "Epoch 81/100\n",
      "4/4 [==============================] - 0s 83ms/step - loss: 6.7193e-06 - accuracy: 1.0000 - val_loss: 2.2793e-05 - val_accuracy: 1.0000\n",
      "\n",
      "Epoch 00081: accuracy did not improve from 1.00000\n",
      "Epoch 82/100\n",
      "4/4 [==============================] - 0s 78ms/step - loss: 6.5195e-06 - accuracy: 1.0000 - val_loss: 2.2592e-05 - val_accuracy: 1.0000\n",
      "\n",
      "Epoch 00082: accuracy did not improve from 1.00000\n",
      "Epoch 83/100\n",
      "4/4 [==============================] - 0s 85ms/step - loss: 6.3569e-06 - accuracy: 1.0000 - val_loss: 2.2564e-05 - val_accuracy: 1.0000\n",
      "\n",
      "Epoch 00083: accuracy did not improve from 1.00000\n",
      "Epoch 84/100\n",
      "4/4 [==============================] - 0s 92ms/step - loss: 6.1851e-06 - accuracy: 1.0000 - val_loss: 2.2456e-05 - val_accuracy: 1.0000\n",
      "\n",
      "Epoch 00084: accuracy did not improve from 1.00000\n",
      "Epoch 85/100\n",
      "4/4 [==============================] - 0s 87ms/step - loss: 6.1061e-06 - accuracy: 1.0000 - val_loss: 2.2477e-05 - val_accuracy: 1.0000\n",
      "\n",
      "Epoch 00085: accuracy did not improve from 1.00000\n",
      "Epoch 86/100\n",
      "4/4 [==============================] - 0s 80ms/step - loss: 5.9529e-06 - accuracy: 1.0000 - val_loss: 2.2459e-05 - val_accuracy: 1.0000\n",
      "\n",
      "Epoch 00086: accuracy did not improve from 1.00000\n",
      "Epoch 87/100\n",
      "4/4 [==============================] - 0s 76ms/step - loss: 5.7788e-06 - accuracy: 1.0000 - val_loss: 2.1924e-05 - val_accuracy: 1.0000\n",
      "\n",
      "Epoch 00087: accuracy did not improve from 1.00000\n",
      "Epoch 88/100\n",
      "4/4 [==============================] - 0s 87ms/step - loss: 5.6705e-06 - accuracy: 1.0000 - val_loss: 2.1620e-05 - val_accuracy: 1.0000\n",
      "\n",
      "Epoch 00088: accuracy did not improve from 1.00000\n",
      "Epoch 89/100\n",
      "4/4 [==============================] - 0s 77ms/step - loss: 5.5068e-06 - accuracy: 1.0000 - val_loss: 2.1464e-05 - val_accuracy: 1.0000\n",
      "\n",
      "Epoch 00089: accuracy did not improve from 1.00000\n",
      "Epoch 90/100\n",
      "4/4 [==============================] - 0s 82ms/step - loss: 5.3977e-06 - accuracy: 1.0000 - val_loss: 2.1065e-05 - val_accuracy: 1.0000\n",
      "\n",
      "Epoch 00090: accuracy did not improve from 1.00000\n",
      "Epoch 91/100\n",
      "4/4 [==============================] - 0s 111ms/step - loss: 5.2982e-06 - accuracy: 1.0000 - val_loss: 2.0858e-05 - val_accuracy: 1.0000\n",
      "\n",
      "Epoch 00091: accuracy did not improve from 1.00000\n",
      "Epoch 92/100\n",
      "4/4 [==============================] - 0s 83ms/step - loss: 5.1808e-06 - accuracy: 1.0000 - val_loss: 2.0676e-05 - val_accuracy: 1.0000\n",
      "\n",
      "Epoch 00092: accuracy did not improve from 1.00000\n",
      "Epoch 93/100\n",
      "4/4 [==============================] - 0s 87ms/step - loss: 5.0413e-06 - accuracy: 1.0000 - val_loss: 2.0556e-05 - val_accuracy: 1.0000\n",
      "\n",
      "Epoch 00093: accuracy did not improve from 1.00000\n",
      "Epoch 94/100\n",
      "4/4 [==============================] - 0s 82ms/step - loss: 4.9749e-06 - accuracy: 1.0000 - val_loss: 2.0636e-05 - val_accuracy: 1.0000\n",
      "\n",
      "Epoch 00094: accuracy did not improve from 1.00000\n",
      "Epoch 95/100\n",
      "4/4 [==============================] - 0s 84ms/step - loss: 4.8055e-06 - accuracy: 1.0000 - val_loss: 2.0417e-05 - val_accuracy: 1.0000\n",
      "\n",
      "Epoch 00095: accuracy did not improve from 1.00000\n",
      "Epoch 96/100\n",
      "4/4 [==============================] - 0s 84ms/step - loss: 4.7627e-06 - accuracy: 1.0000 - val_loss: 2.0540e-05 - val_accuracy: 1.0000\n",
      "\n",
      "Epoch 00096: accuracy did not improve from 1.00000\n",
      "Epoch 97/100\n",
      "4/4 [==============================] - 0s 82ms/step - loss: 4.6244e-06 - accuracy: 1.0000 - val_loss: 2.0561e-05 - val_accuracy: 1.0000\n",
      "\n",
      "Epoch 00097: accuracy did not improve from 1.00000\n",
      "Epoch 98/100\n",
      "4/4 [==============================] - 0s 83ms/step - loss: 4.4414e-06 - accuracy: 1.0000 - val_loss: 2.0572e-05 - val_accuracy: 1.0000\n",
      "\n",
      "Epoch 00098: accuracy did not improve from 1.00000\n",
      "Epoch 99/100\n",
      "4/4 [==============================] - 0s 95ms/step - loss: 4.4024e-06 - accuracy: 1.0000 - val_loss: 2.0867e-05 - val_accuracy: 1.0000\n",
      "\n",
      "Epoch 00099: accuracy did not improve from 1.00000\n",
      "Epoch 100/100\n",
      "4/4 [==============================] - 0s 81ms/step - loss: 4.2727e-06 - accuracy: 1.0000 - val_loss: 2.0834e-05 - val_accuracy: 1.0000\n",
      "\n",
      "Epoch 00100: accuracy did not improve from 1.00000\n"
     ]
    },
    {
     "data": {
      "text/plain": [
       "<keras.callbacks.History at 0x7fdfd1fbd820>"
      ]
     },
     "execution_count": 14,
     "metadata": {},
     "output_type": "execute_result"
    }
   ],
   "source": [
    "adam = keras.optimizers.Adam(learning_rate=0.001)\n",
    "chk = ModelCheckpoint(\"best_model2.pkl\", monitor=\"accuracy\", save_best_only=True, mode=\"max\", verbose=1)\n",
    "model.compile(loss=\"binary_crossentropy\", optimizer=adam, metrics=[\"accuracy\"])\n",
    "model.fit(x_train,y_train, epochs=100, batch_size=4, callbacks=[chk], validation_data=(validation_X,validation_y))\n"
   ]
  },
  {
   "cell_type": "code",
   "execution_count": 119,
   "metadata": {},
   "outputs": [
    {
     "data": {
      "text/plain": [
       "array([[1, 2, 3, 4],\n",
       "       [4, 5, 6, 6]])"
      ]
     },
     "execution_count": 119,
     "metadata": {},
     "output_type": "execute_result"
    }
   ],
   "source": [
    "a = np.array([1,2,3,4])\n",
    "b = np.array([[4,5,6,6]])\n",
    "np.vstack([a, b])"
   ]
  },
  {
   "cell_type": "code",
   "execution_count": 2,
   "metadata": {},
   "outputs": [
    {
     "data": {
      "text/plain": [
       "(2, 6)"
      ]
     },
     "execution_count": 2,
     "metadata": {},
     "output_type": "execute_result"
    }
   ],
   "source": [
    "import numpy as np\n",
    "\n",
    "x = np.array([[1,2,3,3,4,5],\n",
    "             [2,3,34,4,5,5]])\n",
    "x.shape"
   ]
  },
  {
   "cell_type": "code",
   "execution_count": 8,
   "metadata": {},
   "outputs": [],
   "source": [
    "x=x.reshape(1,x.shape[0], x.shape[1])\n"
   ]
  },
  {
   "cell_type": "code",
   "execution_count": 9,
   "metadata": {},
   "outputs": [
    {
     "data": {
      "text/plain": [
       "(1, 2, 6)"
      ]
     },
     "execution_count": 9,
     "metadata": {},
     "output_type": "execute_result"
    }
   ],
   "source": [
    "x.shape"
   ]
  },
  {
   "cell_type": "code",
   "execution_count": 10,
   "metadata": {},
   "outputs": [
    {
     "data": {
      "text/plain": [
       "array([[[ 1,  2,  3,  3,  4,  5],\n",
       "        [ 2,  3, 34,  4,  5,  5]]])"
      ]
     },
     "execution_count": 10,
     "metadata": {},
     "output_type": "execute_result"
    }
   ],
   "source": [
    "x"
   ]
  },
  {
   "cell_type": "code",
   "execution_count": 18,
   "metadata": {},
   "outputs": [
    {
     "name": "stdout",
     "output_type": "stream",
     "text": [
      "[array([[-0.10178033]], dtype=float32), array([[-0.10178033]], dtype=float32), array([[-0.2346895]], dtype=float32)]\n"
     ]
    }
   ],
   "source": [
    "from keras.models import Model\n",
    "from keras.layers import Input\n",
    "from keras.layers import LSTM\n",
    "from numpy import array\n",
    "# define model\n",
    "inputs1 = Input(shape=(3, 1))\n",
    "lstm1, state_h, state_c = LSTM(1, return_state=True)(inputs1)\n",
    "model = Model(inputs=inputs1, outputs=[lstm1, state_h, state_c])\n",
    "# define input data\n",
    "data = array([0.1, 0.2, 0.3]).reshape((1,3,1))\n",
    "# make and show prediction\n",
    "print(model.predict(data))"
   ]
  },
  {
   "cell_type": "code",
   "execution_count": 22,
   "metadata": {},
   "outputs": [
    {
     "name": "stdout",
     "output_type": "stream",
     "text": [
      "[[[0.00284738]\n",
      "  [0.00767078]\n",
      "  [0.01395339]]]\n"
     ]
    }
   ],
   "source": [
    "inputs1 = Input(shape=(3, 1))\n",
    "lstm1 = LSTM(1, return_sequences=True)(inputs1)\n",
    "model = Model(inputs=inputs1, outputs=lstm1)\n",
    "# define input data\n",
    "data = array([0.1, 0.2, 0.3]).reshape((1,3,1))\n",
    "# make and show prediction\n",
    "print(model.predict(data))"
   ]
  },
  {
   "cell_type": "code",
   "execution_count": 30,
   "metadata": {},
   "outputs": [
    {
     "data": {
      "text/plain": [
       "array([[[0. ],\n",
       "        [0.2],\n",
       "        [0.4],\n",
       "        [0.6],\n",
       "        [0.8]]])"
      ]
     },
     "execution_count": 30,
     "metadata": {},
     "output_type": "execute_result"
    }
   ],
   "source": [
    "length = 5\n",
    "seq = array([i/float(length) for i in range(length)])\n",
    "X = seq.reshape(1, length, 1)\n",
    "y = seq.reshape(1, length, 1)\n",
    "y"
   ]
  },
  {
   "cell_type": "code",
   "execution_count": null,
   "metadata": {},
   "outputs": [],
   "source": []
  }
 ],
 "metadata": {
  "interpreter": {
   "hash": "e19f2ee28a2596421b32a582284268244e387339577b4a62b40e9936a7c1aa89"
  },
  "kernelspec": {
   "display_name": "Python 3.7.0 64-bit",
   "language": "python",
   "name": "python3"
  },
  "language_info": {
   "codemirror_mode": {
    "name": "ipython",
    "version": 3
   },
   "file_extension": ".py",
   "mimetype": "text/x-python",
   "name": "python",
   "nbconvert_exporter": "python",
   "pygments_lexer": "ipython3",
   "version": "3.8.5"
  },
  "orig_nbformat": 4
 },
 "nbformat": 4,
 "nbformat_minor": 2
}
